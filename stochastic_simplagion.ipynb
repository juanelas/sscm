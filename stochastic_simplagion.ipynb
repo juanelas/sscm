{
 "cells": [
  {
   "cell_type": "code",
   "execution_count": 29,
   "metadata": {},
   "outputs": [],
   "source": [
    "import os\n",
    "import matplotlib.pyplot as plt\n",
    "import numpy as np\n",
    "\n",
    "from contagion.utils import results_from_experiment, available_results\n",
    "from directories import contagion_figures_dir\n",
    "\n",
    "%matplotlib inline\n"
   ]
  },
  {
   "cell_type": "code",
   "execution_count": 30,
   "metadata": {},
   "outputs": [],
   "source": [
    "def stationary_mean(iteration: np.array):\n",
    "  if len(iteration) > 700 and iteration[-1] > 0:\n",
    "    return np.mean(iteration[-500:])\n",
    "  \n",
    "  return None\n",
    "  "
   ]
  },
  {
   "cell_type": "code",
   "execution_count": 31,
   "metadata": {},
   "outputs": [],
   "source": [
    "def is_approximately_in(item: float, arr, threshold: float = .005):\n",
    "  if arr is None:\n",
    "    return True\n",
    "  for val in arr:\n",
    "    if item > val - threshold and item < val + threshold:\n",
    "      return True\n",
    "  return False\n"
   ]
  },
  {
   "cell_type": "markdown",
   "metadata": {},
   "source": [
    "# Simplagion Contagion Model of order 2"
   ]
  },
  {
   "cell_type": "markdown",
   "metadata": {},
   "source": [
    "## Rho over time"
   ]
  },
  {
   "cell_type": "code",
   "execution_count": 32,
   "metadata": {},
   "outputs": [
    {
     "name": "stdout",
     "output_type": "stream",
     "text": [
      "Available experiments:\n",
      "\tInVS15_J_InVS15_ex1 - lambda_slices\n",
      "\tInVS15_J_InVS15_ex1_sigma0 - lambda_slices\n",
      "\tInVS15_J_InVS15_ex1b - lambda_slices\n",
      "\tInVS15_J_InVS15_ex1b_sigma0 - lambda_slices\n",
      "\tInVS15_J_InVS15_ex2a - lambda_slices\n",
      "\tInVS15_J_InVS15_ex2a_sigma0 - lambda_slices\n",
      "\tInVS15_J_InVS15_ex2b - lambda_slices\n",
      "\tInVS15_J_InVS15_ex2b_sigma0 - lambda_slices\n",
      "\tInVS15_J_InVS15_ex2c - lambda_slices\n",
      "\tInVS15_J_InVS15_ex2c_sigma0 - lambda_slices\n",
      "\tInVS15_J_InVS15_ex3 - lambda_slices\n",
      "\tInVS15_J_InVS15_ex3_sigma0 - lambda_slices\n",
      "\tInVS15_J_InVS15_ex3b - lambda_slices\n",
      "\tInVS15_J_InVS15_ex3b_sigma0 - lambda_slices\n",
      "\tInVS15_ex1 - lambda_slices\n",
      "\tInVS15_ex1_sigma0 - lambda_slices\n",
      "\tInVS15_ex1b - lambda_slices\n",
      "\tInVS15_ex1b_sigma0 - lambda_slices\n",
      "\tInVS15_ex2 - lambda_slices\n",
      "\tInVS15_ex2_sigma0 - lambda_slices\n",
      "\tInVS15_ex2b - lambda_slices\n",
      "\tInVS15_ex2b - lambda_slices_1\n",
      "\tInVS15_ex2b_sigma0 - lambda_slices\n",
      "\tInVS15_ex2c - lambda_slices\n",
      "\tInVS15_ex2c_sigma0 - lambda_slices\n",
      "\tInVS15_ex3 - lambda_slices\n",
      "\tInVS15_ex3_sigma0 - lambda_slices\n",
      "\tInVS15_ex3b - lambda_slices\n",
      "\tInVS15_ex3b_sigma0 - lambda_slices\n",
      "\tN500_k20.000_kdelta6.000_ex1 - lambda_slices\n",
      "\tN500_k20.000_kdelta6.000_ex1_sigma0 - lambda_slices\n",
      "\tN500_k20.000_kdelta6.000_ex2 - lambda_slices\n",
      "\tN500_k20.000_kdelta6.000_ex2_sigma0 - lambda_slices\n",
      "\tN500_k20.000_kdelta6.000_ex2b - lambda_slices\n",
      "\tN500_k20.000_kdelta6.000_ex2b_sigma0 - lambda_slices\n",
      "\tN500_k20.000_kdelta6.000_ex3 - lambda_slices\n",
      "\tN500_k20.000_kdelta6.000_ex3_sigma0 - lambda_slices\n",
      "\tN500_k20.000_kdelta6.000_ex3b - lambda_slices\n",
      "\tN500_k20.000_kdelta6.000_ex3b_sigma0 - lambda_slices\n",
      "\tN500_k24.468_kdelta6.978_J_InVS15_ex1 - lambda_slices\n",
      "\tN500_k24.468_kdelta6.978_J_InVS15_ex1_sigma0 - lambda_slices\n",
      "\tN500_k24.468_kdelta6.978_J_InVS15_ex1b - lambda_slices\n",
      "\tN500_k24.468_kdelta6.978_J_InVS15_ex1b_sigma0 - lambda_slices\n",
      "\tN500_k24.468_kdelta6.978_J_InVS15_ex2a - lambda_slices\n",
      "\tN500_k24.468_kdelta6.978_J_InVS15_ex2a_sigma0 - lambda_slices\n",
      "\tN500_k24.468_kdelta6.978_J_InVS15_ex2b - lambda_slices\n",
      "\tN500_k24.468_kdelta6.978_J_InVS15_ex2b_sigma0 - lambda_slices\n",
      "\tN500_k24.468_kdelta6.978_J_InVS15_ex2c - lambda_slices\n",
      "\tN500_k24.468_kdelta6.978_J_InVS15_ex2c_sigma0 - lambda_slices\n",
      "\tN500_k24.468_kdelta6.978_J_InVS15_ex3 - lambda_slices\n",
      "\tN500_k24.468_kdelta6.978_J_InVS15_ex3_sigma0 - lambda_slices\n",
      "\tN500_k24.468_kdelta6.978_J_InVS15_ex3b - lambda_slices\n",
      "\tN500_k24.468_kdelta6.978_J_InVS15_ex3b_sigma0 - lambda_slices\n",
      "\tN500_k499.000_kdelta483.234_J_N500_k499.000_kdelta483.234_ex1 - lambda_slices\n",
      "\tN500_k87.622_kdelta276.694_J_tags-ask-ubuntu_ex1 - lambda_slices\n",
      "\tN500_k87.622_kdelta276.694_J_tags-ask-ubuntu_ex1_sigma0 - lambda_slices\n",
      "\tN500_k87.622_kdelta276.694_J_tags-ask-ubuntu_ex2a - lambda_slices\n",
      "\tN500_k87.622_kdelta276.694_J_tags-ask-ubuntu_ex2a_sigma0 - lambda_slices\n",
      "\tN500_k87.622_kdelta276.694_J_tags-ask-ubuntu_ex2b - lambda_slices\n",
      "\tN500_k87.622_kdelta276.694_J_tags-ask-ubuntu_ex2b_sigma0 - lambda_slices\n",
      "\tN500_k87.622_kdelta276.694_J_tags-ask-ubuntu_ex3 - lambda_slices\n",
      "\tN500_k87.622_kdelta276.694_J_tags-ask-ubuntu_ex3_sigma0 - lambda_slices\n",
      "\tNDC-classes_J_NDC-classes_ex1 - lambda_slices\n",
      "\tNDC-classes_J_NDC-classes_ex1_sigma0 - lambda_slices\n",
      "\tNDC-classes_J_NDC-classes_ex2a - lambda_slices\n",
      "\tNDC-classes_J_NDC-classes_ex2a_sigma0 - lambda_slices\n",
      "\tNDC-classes_J_NDC-classes_ex2b - lambda_slices\n",
      "\tNDC-classes_J_NDC-classes_ex2b_sigma0 - lambda_slices\n",
      "\tNDC-classes_J_NDC-classes_ex3 - lambda_slices\n",
      "\tNDC-classes_J_NDC-classes_ex3_sigma0 - lambda_slices\n",
      "\tcontact-high-school_J_contact-high-school_ex1 - lambda_slices\n",
      "\tcontact-high-school_J_contact-high-school_ex1_sigma0 - lambda_slices\n",
      "\tcontact-high-school_J_contact-high-school_ex2a - lambda_slices\n",
      "\tcontact-high-school_J_contact-high-school_ex2a_sigma0 - lambda_slices\n",
      "\tcontact-high-school_J_contact-high-school_ex2b - lambda_slices\n",
      "\tcontact-high-school_J_contact-high-school_ex2b_sigma0 - lambda_slices\n",
      "\tcontact-high-school_J_contact-high-school_ex3 - lambda_slices\n",
      "\tcontact-high-school_J_contact-high-school_ex3_sigma0 - lambda_slices\n",
      "\tcontact-primary-school_J_contact-primary-school_ex1 - lambda_slices\n",
      "\tcontact-primary-school_J_contact-primary-school_ex1_sigma0 - lambda_slices\n",
      "\tcontact-primary-school_J_contact-primary-school_ex2a - lambda_slices\n",
      "\tcontact-primary-school_J_contact-primary-school_ex2a_sigma0 - lambda_slices\n",
      "\tcontact-primary-school_J_contact-primary-school_ex2b - lambda_slices\n",
      "\tcontact-primary-school_J_contact-primary-school_ex2b_sigma0 - lambda_slices\n",
      "\tcontact-primary-school_J_contact-primary-school_ex3 - lambda_slices\n",
      "\tcontact-primary-school_J_contact-primary-school_ex3_sigma0 - lambda_slices\n",
      "\temail-Eu_J_email-Eu_ex1 - lambda_slices\n",
      "\temail-Eu_J_email-Eu_ex1_sigma0 - lambda_slices\n",
      "\temail-Eu_J_email-Eu_ex1b - lambda_slices\n",
      "\temail-Eu_J_email-Eu_ex1b_sigma0 - lambda_slices\n",
      "\temail-Eu_J_email-Eu_ex2a - lambda_slices\n",
      "\temail-Eu_J_email-Eu_ex2a_sigma0 - lambda_slices\n",
      "\temail-Eu_J_email-Eu_ex2b - lambda_slices\n",
      "\temail-Eu_J_email-Eu_ex2b_sigma0 - lambda_slices\n",
      "\temail-Eu_J_email-Eu_ex3 - lambda_slices\n",
      "\temail-Eu_J_email-Eu_ex3_sigma0 - lambda_slices\n",
      "\ttags-ask-ubuntu_J_tags-ask-ubuntu_ex1 - lambda_slices\n",
      "\ttags-ask-ubuntu_J_tags-ask-ubuntu_ex1_sigma0 - lambda_slices\n",
      "\ttags-ask-ubuntu_J_tags-ask-ubuntu_ex2a - lambda_slices\n",
      "\ttags-ask-ubuntu_J_tags-ask-ubuntu_ex2a_sigma0 - lambda_slices\n",
      "\ttags-ask-ubuntu_J_tags-ask-ubuntu_ex2b - lambda_slices\n",
      "\ttags-ask-ubuntu_J_tags-ask-ubuntu_ex2b_sigma0 - lambda_slices\n",
      "\ttags-ask-ubuntu_J_tags-ask-ubuntu_ex3 - lambda_slices\n",
      "\ttags-ask-ubuntu_J_tags-ask-ubuntu_ex3_sigma0 - lambda_slices\n"
     ]
    }
   ],
   "source": [
    "_, contagion_experiments = available_results()\n",
    "experiments = [ex for ex in contagion_experiments if '_ex' in ex]\n",
    "print('Available experiments:\\n\\t' + '\\n\\t'.join(experiments))"
   ]
  },
  {
   "cell_type": "code",
   "execution_count": 49,
   "metadata": {},
   "outputs": [
    {
     "name": "stdout",
     "output_type": "stream",
     "text": [
      "mu: 1\n",
      "beta: 0.03331548474314408\n",
      "sigma: 0\n",
      "sigma_prima: 0.0\n",
      "beta_delta: 1.0079321063394684\n",
      "sigma_delta: 0\n",
      "rho0s: [0.01, 0.2]\n",
      "no_iterations: 30\n",
      "iteration timesteps: 48000\n"
     ]
    }
   ],
   "source": [
    "dataset = 'N500_k24.468_kdelta6.978'\n",
    "# dataset = 'InVS15'\n",
    "experiment_dataset = dataset\n",
    "experiment_dataset = 'InVS15'\n",
    "experiment = f'{dataset}_J_{experiment_dataset}_ex2c_sigma0 - lambda_slices'\n",
    "version = 2 # either 0 (old), 1 or 2 (with stationary sigma)\n",
    "\n",
    "results, database = results_from_experiment(experiment, version)\n",
    "rhos, stationary_rhos, k, k_delta, lambdas, sigma, sigma_delta, rho0s_per_lambda_delta, mu = results\n",
    "\n",
    "sigma = sigma or 0\n",
    "sigma_delta = sigma_delta or 0\n",
    "lambda1 = lambdas[0]\n",
    "lambda_delta = list(rho0s_per_lambda_delta.keys())[0]\n",
    "\n",
    "beta = 1.*(mu / k) * lambda1\n",
    "beta_delta = 1.*(mu / k) * lambda_delta\n",
    "\n",
    "rho0s = rho0s_per_lambda_delta[lambda_delta]\n",
    "\n",
    "no_iterations = len(rhos[lambda_delta][rho0s[0]][lambda1])\n",
    "iteration_timesteps = len(rhos[lambda_delta][rho0s[0]][lambda1][0])\n",
    "\n",
    "print(f'mu: {mu}')\n",
    "print(f'beta: {beta}')\n",
    "print(f'sigma: {sigma}')\n",
    "print(f'sigma_prima: {sigma * k}')\n",
    "print(f'beta_delta: {beta_delta}')\n",
    "print(f'sigma_delta: {sigma_delta}')\n",
    "print('rho0s: ' + str(rho0s))\n",
    "print(f'no_iterations: {no_iterations}')\n",
    "print(f'iteration timesteps: {iteration_timesteps}')\n"
   ]
  },
  {
   "cell_type": "code",
   "execution_count": 50,
   "metadata": {},
   "outputs": [],
   "source": [
    "# NO TOCAR\n",
    "markers = ['D', 's', 'o', '.']\n",
    "zorders = [8, 7, 6, 5]\n",
    "mfcs = ['white', 'white', 'white', 'cornflowerblue']\n",
    "markersizes = [7.5, 7.5, 7, 6]\n",
    "colormap = plt.cm.get_cmap('Accent')\n",
    "colors = list(colormap(np.linspace(0, 1, no_iterations)))\n",
    "round_decimals = 4\n",
    "xmin = 0\n",
    "xmax = None\n",
    "I0 = None\n",
    "remove_non_disease_free = False\n",
    "remove_disease_free = False"
   ]
  },
  {
   "cell_type": "code",
   "execution_count": 51,
   "metadata": {},
   "outputs": [],
   "source": [
    "# CONFIGURACIÓN\n",
    "# xmin = 3900\n",
    "# xmax = 100\n",
    "I0 = [.01, .2]\n",
    "# remove_non_disease_free = True\n",
    "# remove_disease_free = True"
   ]
  },
  {
   "cell_type": "code",
   "execution_count": 52,
   "metadata": {},
   "outputs": [
    {
     "data": {
      "image/png": "[encoded data removed]",
      "text/plain": [
       "<Figure size 648x432 with 1 Axes>"
      ]
     },
     "metadata": {
      "needs_background": "light"
     },
     "output_type": "display_data"
    }
   ],
   "source": [
    "fig = plt.figure(figsize=(9, 6))\n",
    "ax = plt.subplot(111)\n",
    "\n",
    "x_axis = [timestep for timestep in range(0, iteration_timesteps)]\n",
    "\n",
    "\n",
    "stationary_rho_means = []\n",
    "stationary_rho_stds = []\n",
    "xlim = 0\n",
    "for rho0 in rho0s:\n",
    "    iterations = rhos[lambda_delta][rho0][lambda1]\n",
    "    for i, iteration in enumerate(iterations):\n",
    "        rho_mean = stationary_mean(iteration)\n",
    "        if rho_mean:\n",
    "            stationary_rho_means.append(rho_mean)\n",
    "        if is_approximately_in(iteration[0], I0):\n",
    "            if (remove_non_disease_free is False) or iteration[-1] == 0:\n",
    "                if (remove_disease_free is False) or iteration[-1] != 0:\n",
    "                    ax.plot(x_axis, iteration, color=colors[i], ls='-', lw=.5)\n",
    "                    if len(iteration) > xlim:\n",
    "                        xlim = len(iteration)\n",
    "\n",
    "stationary_rho_mean = np.mean(stationary_rho_means)\n",
    "if stationary_rho_mean > 0 and not remove_non_disease_free:\n",
    "    ax.axhline(y=stationary_rho_mean, color='r', linestyle='--', linewidth='4')\n",
    "    ax.text(x=(xmax or xlim)*1.01, y=stationary_rho_mean, s=str(round(stationary_rho_mean, 4)), color='red', verticalalignment='center')\n",
    "\n",
    "ax.tick_params(axis='both', which='major', labelsize=16)\n",
    "ax.set_xlabel(r'time steps', size=16)\n",
    "ax.set_ylabel(r'Density of infected nodes, $x(t)$', size=16)\n",
    "# ax.set_title(f'{experiment.split(\" - lambda\")[0]}')\n",
    "\n",
    "ax.set_xlim(xmin or 0, xmax or xlim)\n",
    "# ax.set_ylim(0, .05)\n",
    "\n",
    "# r0 = beta*k / mu\n",
    "# r0_delta = beta_delta*k_delta / mu \n",
    "# r0s = (beta * k - (sigma**2)*(k**2)/2)/mu\n",
    "# textstr ='\\n'.join((\n",
    "#     f'$\\\\mu \\\\approx {str(round(mu, round_decimals))}$',\n",
    "#     f'$\\\\beta \\\\approx {str(round(beta, round_decimals))}$' + (f', $\\\\sigma \\\\approx {str(round(sigma, round_decimals))}$' if sigma else ''),\n",
    "#     f'$\\\\beta_{{\\\\Delta}} \\\\approx {str(round(beta_delta, round_decimals))}$' + (f', $\\\\sigma_{{\\\\Delta}} \\\\approx {str(round(sigma_delta, round_decimals))}$' if sigma_delta else ''),\n",
    "#     f'$k \\\\approx {str(round(k, round_decimals))}$, $k_{{\\\\Delta}} \\\\approx {str(round(k_delta, round_decimals))}$',\n",
    "#     f'$R_0 = \\\\frac{{\\\\beta k}}{{\\\\mu}} \\\\approx {str(round(r0, round_decimals))}' + (' > 1 $' if r0 > 1 else ' \\leq 1 $'),\n",
    "#     f'$R_0^\\\\Delta = \\\\frac{{\\\\beta_\\\\Delta k_\\\\Delta}}{{\\\\mu}} \\\\approx {str(round(r0_delta, round_decimals))}' + (' > 1 $' if r0_delta > 1 else ' \\leq 1 $')\n",
    "# ))\n",
    "# if sigma:\n",
    "#     textstr += f'\\n$R_0^S = \\\\frac{{\\\\beta k - \\\\frac{{1}}{{2}} \\\\sigma^2 k^2}}{{\\\\mu}} \\\\approx {str(round(r0s, round_decimals))}' + (' > 1 $' if r0s > 1 else ' \\leq 1 $')\n",
    "\n",
    "\n",
    "# props = dict(boxstyle='square', facecolor='white', alpha=0.8)\n",
    "# ax.text(0.67, 0.95, textstr, transform=ax.transAxes, fontsize=12, verticalalignment='top', horizontalalignment='left', bbox=props)\n",
    "\n",
    "figures_dir = os.path.join(contagion_figures_dir, database)\n",
    "if not os.path.exists(figures_dir):\n",
    "    os.makedirs(figures_dir)\n",
    "\n",
    "fig.savefig(os.path.join(figures_dir, f'{experiment}_xmin{xmin}_xmax{xmax or xlim}.pdf'))\n",
    "fig.savefig(os.path.join(figures_dir, f'{experiment}_xmin{xmin}_xmax{xmax or xlim}.png'))\n",
    "xmax = None"
   ]
  }
 ],
 "metadata": {
  "interpreter": {
   "hash": "8e3d8d581f3129468bdd68f527449e412f765a16e1f957fc81843b0c21068221"
  },
  "kernelspec": {
   "display_name": "Python 3.7.5 ('simplicial')",
   "language": "python",
   "name": "python3"
  },
  "language_info": {
   "codemirror_mode": {
    "name": "ipython",
    "version": 3
   },
   "file_extension": ".py",
   "mimetype": "text/x-python",
   "name": "python",
   "nbconvert_exporter": "python",
   "pygments_lexer": "ipython3",
   "version": "3.7.13"
  }
 },
 "nbformat": 4,
 "nbformat_minor": 2
}
