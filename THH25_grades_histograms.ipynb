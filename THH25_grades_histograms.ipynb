{
 "cells": [
  {
   "cell_type": "code",
   "execution_count": 1,
   "metadata": {},
   "outputs": [],
   "source": [
    "import os\n",
    "\n",
    "import matplotlib.pyplot as plt\n",
    "import numpy as np\n",
    "import pandas as pd\n",
    "\n",
    "from contagion.SimplicialComplex import (SimplicialComplex,\n",
    "                                         from_iacopini_cliques,\n",
    "                                         from_random_sc_file,\n",
    "                                         from_simplicial_csvs)\n",
    "from contagion.utils import (get_iacopini_cliques,\n",
    "                             get_random_simplicial_complexes,\n",
    "                             get_simplicialbros_datasets)\n",
    "from directories import sc_degrees_figures_dir\n",
    "from plots import plot\n",
    "\n",
    "%matplotlib inline"
   ]
  },
  {
   "cell_type": "code",
   "execution_count": 2,
   "metadata": {},
   "outputs": [
    {
     "name": "stdout",
     "output_type": "stream",
     "text": [
      "Avaliable simplicial complexes:\n",
      "\n",
      "  simplicialbros: coauth-DBLP,coauth-MAG-Geology,coauth-MAG-History,contact-high-school,contact-primary-school,DAWN,email-Enron,email-Eu,NDC-classes,NDC-substances,tags-ask-ubuntu,tags-math-sx,threads-ask-ubuntu,threads-math-sx\n",
      "\n",
      "  rsc: N500_k20.348_kdelta6.084,N212_k24.425_kdelta6.920,N500_k20.000_kdelta10.000,N500_k24.468_kdelta6.978,N500_k20.272_kdelta6.126,N500_k87.622_kdelta276.694,N500_k19.568_kdelta5.736\n",
      "\n",
      "  iacopini: LH10,LyonSchool,InVS13,Thiers13,InVS15,SFHH\n"
     ]
    }
   ],
   "source": [
    "simplicialbros_datasets = get_simplicialbros_datasets()\n",
    "random_simplicial_complexes = get_random_simplicial_complexes()\n",
    "iacopini_simplicial_complexes = get_iacopini_cliques()\n",
    "\n",
    "print('Avaliable simplicial complexes:\\n')\n",
    "print('  simplicialbros: ' + ','.join(simplicialbros_datasets))\n",
    "print()\n",
    "print('  rsc: ' + ','.join(random_simplicial_complexes))\n",
    "print()\n",
    "print('  iacopini: ' + ','.join(iacopini_simplicial_complexes))"
   ]
  },
  {
   "cell_type": "code",
   "execution_count": 3,
   "metadata": {},
   "outputs": [
    {
     "name": "stdout",
     "output_type": "stream",
     "text": [
      "Computed avg<k>: 20.348\n",
      "Computed avg<k_delta>: 6.084\n"
     ]
    }
   ],
   "source": [
    "sc_type = 'rsc' # Either 'simplicialbros' or 'rsc' or 'iacopini'\n",
    "sc_name = 'N500_k20.348_kdelta6.084'\n",
    "# sc_type = 'iacopini' # Either 'simplicialbros' or 'rsc' or 'iacopini'\n",
    "# sc_name = 'InVS15'\n",
    "# sc_type = 'simplicialbros'\n",
    "# sc_name = 'email-Eu'\n",
    "\n",
    "if sc_type is 'rsc':\n",
    "  simplicial_complex = from_random_sc_file(sc_name)\n",
    "elif sc_type is 'iacopini':\n",
    "  simplicial_complex = from_iacopini_cliques(sc_name)\n",
    "elif sc_type is 'simplicialbros':\n",
    "  simplicial_complex = from_simplicial_csvs(sc_name)\n",
    "\n",
    "k = [len(node.neighbours) for node in simplicial_complex.nodes.values()]\n",
    "k_delta = [len(node.triangle_neighbours) for node in simplicial_complex.nodes.values()]\n",
    "\n",
    "k_pdf = np.bincount(k) / len(k)\n",
    "k_delta_pdf = np.bincount(k_delta) / len(k_delta)\n",
    "\n",
    "k_avg = np.average(k)\n",
    "k_delta_avg = np.average(k_delta)\n",
    "print(f'Computed avg<k>: {k_avg}')\n",
    "print(f'Computed avg<k_delta>: {k_delta_avg}')"
   ]
  },
  {
   "cell_type": "code",
   "execution_count": 4,
   "metadata": {},
   "outputs": [],
   "source": [
    "def rpad_with_zeros(a, expected_length):\n",
    "  if expected_length < len(a):\n",
    "    raise Exception('Cannot pad n array larger than the expected length')\n",
    "  return np.pad(a, (0, expected_length - len(a)))"
   ]
  },
  {
   "cell_type": "code",
   "execution_count": 5,
   "metadata": {},
   "outputs": [
    {
     "data": {
      "image/png": "[encoded data removed]",
      "text/plain": [
       "<Figure size 288x216 with 1 Axes>"
      ]
     },
     "metadata": {
      "needs_background": "light"
     },
     "output_type": "display_data"
    }
   ],
   "source": [
    "round_decimals = 2\n",
    "font_size = None\n",
    "fig = plt.figure(figsize=(4, 3), constrained_layout=True)\n",
    "ax = plt.subplot()\n",
    "\n",
    "x_max = len(k_pdf) if len(k_pdf) > len(k_delta_pdf) else len(k_delta_pdf)\n",
    "x_axis = list(range(x_max))\n",
    "xlim_max = len(x_axis) - 1\n",
    "# xlim_max = 700\n",
    "ax.set_xlim(0, xlim_max)\n",
    "\n",
    "k_pdf_max = np.max(k_pdf)\n",
    "k_delta_pdf_max = np.max(k_delta_pdf)\n",
    "y_max = k_pdf_max if k_pdf_max > k_delta_pdf_max else k_delta_pdf_max\n",
    "y_max = y_max * 1.1 if y_max * 1.1 < 1 else 1\n",
    "ax.set_ylim(0, y_max)\n",
    "ax.set_xlabel('degree', size=font_size)\n",
    "ax.set_ylabel('density', size=font_size)\n",
    "# ax.set_xscale('log')\n",
    "# ax.set_yscale('log')\n",
    "# ax.set_title(sc_name.replace(\"_\", \" \"))\n",
    "\n",
    "# ax.plot(x_axis, rpad_with_zeros(k_pdf, len(x_axis)), color='steelblue', label=r'$k$')\n",
    "# ax.axvline(x=k_avg, color='steelblue', linestyle='--', linewidth='2', label=r'$\\langle k \\rangle$')\n",
    "ax.plot(x_axis, rpad_with_zeros(k_pdf, len(x_axis)), color='steelblue', label=r'$k_1$')\n",
    "ax.axvline(x=k_avg, color='steelblue', linestyle='--', linewidth='2', label=r'$\\langle k_1 \\rangle$')\n",
    "ax.text(x=k_avg + xlim_max*.01, y=y_max*.95, s=r'$\\langle k_1 \\rangle = $' + str(round(k_avg, round_decimals)), verticalalignment='center', size=font_size)\n",
    "\n",
    "# ax.plot(x_axis, rpad_with_zeros(k_delta_pdf, len(x_axis)), color='coral', label=r'$k_{\\Delta}$')\n",
    "# ax.axvline(x=k_delta_avg, color='coral', linestyle='--', linewidth='2', label=r'$\\langle k_{\\Delta} \\rangle $')\n",
    "ax.plot(x_axis, rpad_with_zeros(k_delta_pdf, len(x_axis)), color='coral', label=r'$k_2$')\n",
    "ax.axvline(x=k_delta_avg, color='coral', linestyle='--', linewidth='2', label=r'$\\langle k_2 \\rangle $')\n",
    "ax.text(x=k_delta_avg + xlim_max*.01, y=y_max*.85, s=r'$\\langle k_2 \\rangle = $' + str(round(k_delta_avg, round_decimals)), verticalalignment='center', size=font_size)\n",
    "\n",
    "ax.legend(fontsize=font_size, loc='center right')\n",
    "\n",
    "fig.savefig(os.path.join(sc_degrees_figures_dir, f'{sc_type}_{sc_name}.pdf'), bbox_inches = 'tight')\n",
    "fig.savefig(os.path.join(sc_degrees_figures_dir, f'{sc_type}_{sc_name}.png'))"
   ]
  },
  {
   "cell_type": "code",
   "execution_count": 6,
   "metadata": {},
   "outputs": [],
   "source": [
    "df = pd.DataFrame(rpad_with_zeros(k_pdf, len(x_axis)))\n",
    "df = df.assign(k2=rpad_with_zeros(k_delta_pdf, len(x_axis)))\n",
    "df.columns = [ r'$k_1$', r'$k_2$' ]\n",
    "\n",
    "vlines = []\n",
    "\n",
    "k_formatted = f'{k_avg:.2f}'.rstrip('0').rstrip(\n",
    "            '.') if '.' in f'{k_avg:.2f}' else f'{k_avg:.2f}'\n",
    "k_delta_formatted = f'{k_delta_avg:.2f}'.rstrip('0').rstrip(\n",
    "            '.') if '.' in f'{k_delta_avg:.2f}' else f'{k_delta_avg:.2f}'\n",
    "\n",
    "vlines.append([k_avg, r'$\\langle k_1 \\rangle \\approx ' + k_formatted + '$'])\n",
    "vlines.append([k_delta_avg, r'$\\langle k_2 \\rangle \\approx ' + k_delta_formatted + '$'])\n",
    "\n",
    "fig = plot(df, figname=f'{sc_name}_k1_k2_loglog', logx=True, logy=True, vlines=vlines, subdirectory='degrees', figsize=(4,3))\n",
    "fig = plot(df, figname=f'{sc_name}_k1_k2', logx=False, logy=False, vlines=vlines, subdirectory='degrees', figsize=(4,3))\n"
   ]
  }
 ],
 "metadata": {
  "kernelspec": {
   "display_name": "Python 3.7.13 ('simplicial')",
   "language": "python",
   "name": "python3"
  },
  "language_info": {
   "codemirror_mode": {
    "name": "ipython",
    "version": 3
   },
   "file_extension": ".py",
   "mimetype": "text/x-python",
   "name": "python",
   "nbconvert_exporter": "python",
   "pygments_lexer": "ipython3",
   "version": "3.7.13"
  },
  "orig_nbformat": 4,
  "vscode": {
   "interpreter": {
    "hash": "8e3d8d581f3129468bdd68f527449e412f765a16e1f957fc81843b0c21068221"
   }
  }
 },
 "nbformat": 4,
 "nbformat_minor": 2
}
